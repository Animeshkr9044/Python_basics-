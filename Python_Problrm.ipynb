{
 "cells": [
  {
   "cell_type": "code",
   "execution_count": 2,
   "metadata": {},
   "outputs": [
    {
     "name": "stdout",
     "output_type": "stream",
     "text": [
      "hello world\n"
     ]
    }
   ],
   "source": [
    "print(\"hello world\")"
   ]
  },
  {
   "cell_type": "code",
   "execution_count": 67,
   "metadata": {},
   "outputs": [
    {
     "data": {
      "text/plain": [
       "'https://github.com/0bprashanthc/algorithm-books/blob/master/Data%20Structures%20%26%20Algorithms%20in%20Python.pdf'"
      ]
     },
     "execution_count": 67,
     "metadata": {},
     "output_type": "execute_result"
    }
   ],
   "source": [
    "## Python Book \n",
    "\"https://github.com/0bprashanthc/algorithm-books/blob/master/Data%20Structures%20%26%20Algorithms%20in%20Python.pdf\""
   ]
  },
  {
   "cell_type": "code",
   "execution_count": 40,
   "metadata": {},
   "outputs": [
    {
     "name": "stdout",
     "output_type": "stream",
     "text": [
      "['p', 'y', 't', 'h', 'o', 'n', ' ', 'i', 's', 'e', 'b', 'r', 'g', 'a', 'm', 'l', 'u']\n"
     ]
    }
   ],
   "source": [
    "input_string = \"Python is the best programming language\"\n",
    "input_string = input_string.lower()\n",
    "list_of_string = list(input_string)\n",
    "p=[]\n",
    "for cahr in list_of_string:\n",
    "    if cahr not in p:\n",
    "        p.append(cahr)\n",
    "    else:\n",
    "        pass\n",
    "\n",
    "print(p)\n",
    "    "
   ]
  },
  {
   "cell_type": "code",
   "execution_count": 41,
   "metadata": {},
   "outputs": [],
   "source": [
    "from typing import List\n",
    "def remove_repeating_character(input_string: str)->List[str]:\n",
    "    input_string_1 = list(input_string.lower())\n",
    "    p = []\n",
    "    for char in input_string:\n",
    "        if cahr not in p:\n",
    "            p.append(cahr)\n",
    "    else:\n",
    "        pass\n",
    "    \n",
    "    return p"
   ]
  },
  {
   "cell_type": "code",
   "execution_count": 44,
   "metadata": {},
   "outputs": [
    {
     "name": "stdout",
     "output_type": "stream",
     "text": [
      "['e']\n"
     ]
    }
   ],
   "source": [
    "a = \"helllo\"\n",
    "b= 35\n",
    "print(remove_repeating_character(input_string=a))"
   ]
  },
  {
   "cell_type": "code",
   "execution_count": 31,
   "metadata": {},
   "outputs": [],
   "source": [
    "from typing import List\n",
    "def reomve_the_repeting_charcters(input_string:str)->List[str]:\n",
    "    list_of_string = list(input_string.lower())\n",
    "    for i in list_of_string:\n",
    "        if list_of_string.count(i)>1:\n",
    "            list_of_string.remove(i)\n",
    "        else:\n",
    "            0\n",
    "    return list_of_string\n",
    "            "
   ]
  },
  {
   "cell_type": "code",
   "execution_count": null,
   "metadata": {},
   "outputs": [],
   "source": []
  },
  {
   "cell_type": "code",
   "execution_count": 49,
   "metadata": {},
   "outputs": [
    {
     "name": "stdout",
     "output_type": "stream",
     "text": [
      "helLo\n"
     ]
    }
   ],
   "source": [
    "string = \"helllllllo\"\n",
    "p = \"\"\n",
    "for char in string:\n",
    "\tif char not in p:\n",
    "\t\tp = p+char\n",
    "print(p)\n",
    "# k = list(\"geeksforgeeks\")\n"
   ]
  },
  {
   "cell_type": "code",
   "execution_count": 56,
   "metadata": {},
   "outputs": [
    {
     "name": "stdout",
     "output_type": "stream",
     "text": [
      "0\n",
      "-1\n",
      "-1\n",
      "-1\n",
      "-1\n",
      "-1\n",
      "-1\n"
     ]
    }
   ],
   "source": [
    "s =\"animesh\"\n",
    "\n",
    "for i in s :\n",
    "    print(i.find(\"a\"))"
   ]
  },
  {
   "cell_type": "code",
   "execution_count": 57,
   "metadata": {},
   "outputs": [],
   "source": [
    "dic = {\"Name\":{\"Animeh\"},\"Age\":\"22\"}"
   ]
  },
  {
   "cell_type": "code",
   "execution_count": null,
   "metadata": {},
   "outputs": [],
   "source": []
  },
  {
   "cell_type": "code",
   "execution_count": null,
   "metadata": {},
   "outputs": [],
   "source": []
  }
 ],
 "metadata": {
  "kernelspec": {
   "display_name": "python_venv",
   "language": "python",
   "name": "python3"
  },
  "language_info": {
   "codemirror_mode": {
    "name": "ipython",
    "version": 3
   },
   "file_extension": ".py",
   "mimetype": "text/x-python",
   "name": "python",
   "nbconvert_exporter": "python",
   "pygments_lexer": "ipython3",
   "version": "3.11.7"
  }
 },
 "nbformat": 4,
 "nbformat_minor": 2
}
